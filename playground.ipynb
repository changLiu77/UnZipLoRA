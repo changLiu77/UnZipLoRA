{
 "cells": [
  {
   "cell_type": "code",
   "execution_count": null,
   "metadata": {},
   "outputs": [],
   "source": [
    "import os\n",
    "COLAB = True\n",
    "work_dir = \"/home/changl25/ziplora-pytorch\"\n",
    "os.chdir(work_dir)\n",
    "!pwd\n",
    "import sys\n",
    "from pathlib import Path"
   ]
  },
  {
   "cell_type": "markdown",
   "metadata": {},
   "source": [
    "# Playground"
   ]
  },
  {
   "cell_type": "code",
   "execution_count": null,
   "metadata": {},
   "outputs": [],
   "source": [
    "import os\n",
    "import matplotlib.pyplot as plt\n",
    "import numpy as np \n",
    "import torch\n",
    "from diffusers import AutoencoderKL\n",
    "from transformers import AutoTokenizer\n",
    "MODEL_ID = \"stabilityai/stable-diffusion-xl-base-1.0\"\n",
    "device = \"cuda\" if torch.cuda.is_available() else \"cpu\"\n",
    "weight_dtype = torch.float16\n",
    "rank=64\n",
    "%load_ext autoreload\n",
    "%autoreload 2\n",
    "\n",
    "from inverse_ziplora_comb_separate import utils\n",
    "from inverse_ziplora_comb_separate.pipeline_stable_diffusion_xl_seperate import StableDiffusionXLSeperatePipeline\n"
   ]
  },
  {
   "cell_type": "code",
   "execution_count": null,
   "metadata": {},
   "outputs": [],
   "source": [
    "from train_inverse_ziplora_layer_column import import_model_class_from_model_name_or_path\n",
    "\n",
    "tokenizer_one = AutoTokenizer.from_pretrained(\n",
    "    MODEL_ID,\n",
    "    subfolder=\"tokenizer\",\n",
    "    use_fast=False,\n",
    ")\n",
    "tokenizer_two = AutoTokenizer.from_pretrained(\n",
    "    MODEL_ID,\n",
    "    subfolder=\"tokenizer_2\",\n",
    "    use_fast=False,\n",
    ")\n",
    "text_encoder_cls_one = import_model_class_from_model_name_or_path(\n",
    "    MODEL_ID, revision=None\n",
    ")\n",
    "text_encoder_cls_two = import_model_class_from_model_name_or_path(\n",
    "    MODEL_ID, subfolder=\"text_encoder_2\", revision=None\n",
    ")\n",
    "text_encoder_one = text_encoder_cls_one.from_pretrained(\n",
    "    MODEL_ID, subfolder=\"text_encoder\",\n",
    ")\n",
    "text_encoder_two = text_encoder_cls_two.from_pretrained(\n",
    "    MODEL_ID, subfolder=\"text_encoder_2\",\n",
    ")\n",
    "text_encoder_one.requires_grad_(False)\n",
    "text_encoder_one.to(device, dtype=torch.float16)\n",
    "\n",
    "text_encoder_two.requires_grad_(False)\n",
    "text_encoder_two.to(device, dtype=torch.float16)\n",
    "tokenizers = [tokenizer_one, tokenizer_two]\n",
    "text_encoders = [text_encoder_one, text_encoder_two]\n",
    "\n",
    "vae = AutoencoderKL.from_pretrained(\n",
    "            MODEL_ID,\n",
    "            subfolder=\"vae\",\n",
    "            revision=None\n",
    "    )"
   ]
  },
  {
   "cell_type": "code",
   "execution_count": null,
   "metadata": {},
   "outputs": [],
   "source": [
    "def log_validation(pipeline, prompt, prompt_content, prompt_style, seed=0):\n",
    "    generator = torch.Generator(device=device).manual_seed(seed)\n",
    "    # Currently the context determination is a bit hand-wavy. We can improve it in the future if there's a better\n",
    "    # way to condition it. Reference: https://github.com/huggingface/diffusers/pull/7126#issuecomment-1968523051\n",
    "    if pipeline.__class__.__name__ == 'StableDiffusionXLSeperatePipeline':\n",
    "        pipeline_args = {\"prompt\": prompt, \n",
    "                        \"prompt_content\": prompt_content, \n",
    "                        \"prompt_style\": prompt_style}\n",
    "    else: \n",
    "        pipeline_args = {\"prompt\": prompt}\n",
    "    print(pipeline_args)    \n",
    "    images = [pipeline(**pipeline_args, generator=generator, num_inference_steps=50).images[0] for _ in range(4)]\n",
    "    return images"
   ]
  },
  {
   "cell_type": "code",
   "execution_count": null,
   "metadata": {},
   "outputs": [],
   "source": [
    "def show_img(images):\n",
    "    np_images = np.hstack([np.asarray(img) for img in images])\n",
    "    plt.figure(figsize=(10,10))\n",
    "    plt.imshow(np_images)\n",
    "    plt.axis(\"off\")\n",
    "    plt.show()"
   ]
  },
  {
   "cell_type": "markdown",
   "metadata": {},
   "source": [
    "## In-image Generation"
   ]
  },
  {
   "cell_type": "code",
   "execution_count": null,
   "metadata": {},
   "outputs": [],
   "source": []
  },
  {
   "cell_type": "code",
   "execution_count": null,
   "metadata": {},
   "outputs": [],
   "source": []
  },
  {
   "cell_type": "markdown",
   "metadata": {},
   "source": [
    "## Cross-image Generation"
   ]
  }
 ],
 "metadata": {
  "language_info": {
   "name": "python"
  }
 },
 "nbformat": 4,
 "nbformat_minor": 2
}
